{
 "cells": [
  {
   "cell_type": "code",
   "execution_count": 1,
   "metadata": {
    "collapsed": true,
    "ExecuteTime": {
     "end_time": "2023-07-09T21:24:43.170840169Z",
     "start_time": "2023-07-09T21:24:43.170499214Z"
    }
   },
   "outputs": [],
   "source": [
    "# !pip install -r requirements.txt"
   ]
  },
  {
   "cell_type": "code",
   "execution_count": 2,
   "outputs": [],
   "source": [
    "from matplotlib import pyplot as plt"
   ],
   "metadata": {
    "collapsed": false,
    "ExecuteTime": {
     "end_time": "2023-07-09T21:24:43.408340488Z",
     "start_time": "2023-07-09T21:24:43.170700685Z"
    }
   }
  },
  {
   "cell_type": "code",
   "execution_count": 2,
   "metadata": {
    "collapsed": false,
    "ExecuteTime": {
     "end_time": "2023-07-09T21:55:35.474599303Z",
     "start_time": "2023-07-09T21:55:34.716035624Z"
    }
   },
   "outputs": [],
   "source": [
    "import numpy as np\n",
    "from sklearn.svm import SVC\n",
    "import itertools\n",
    "from scipy.spatial import distance\n",
    "from sklearn.linear_model import LogisticRegression\n",
    "import pandas as pd\n",
    "from sklearn.model_selection import train_test_split\n",
    "from sklearn.base import clone\n",
    "from ConformedEcoc import TernaryECOC"
   ]
  },
  {
   "cell_type": "code",
   "execution_count": null,
   "outputs": [],
   "source": [
    "import os\n",
    "import glob\n",
    "\n",
    "# Directory path containing the CSV files\n",
    "directory = 'data/'\n",
    "# Pattern to match CSV files\n",
    "file_pattern = '*.csv'\n",
    "# Iterate over CSV files in the directory\n",
    "print(\"{:<20}            {:<20}          {:<20}     {:<20}    {:<10}\".format(\"data\",\"ECOC accuracy\",\"conformed ECOC accuracy\",\"difference\",\"number of classes\"))\n",
    "for data_path in glob.glob(os.path.join(directory, file_pattern)):\n",
    "    try:\n",
    "        df=pd.read_csv(data_path,header=None)\n",
    "        X=df.iloc[:,:-1].values\n",
    "        y=df.iloc[:,-1].values\n",
    "\n",
    "        X_train, X_test, y_train, y_test = train_test_split(X, y, test_size=0.2, random_state=42,stratify=y)\n",
    "\n",
    "\n",
    "\n",
    "        n_classes = len(np.unique(y))\n",
    "        n_classifiers = n_classes * (n_classes - 1) // 2\n",
    "        ecoc = TernaryECOC(n_classes,LogisticRegression(max_iter=2000),  n_classifiers,with_conformal_prediction=False)\n",
    "        conformed_ecoc = TernaryECOC(n_classes,LogisticRegression(max_iter=2000),  n_classifiers,with_conformal_prediction=True)\n",
    "        # ecoc = TernaryECOC(n_classes,SVC(kernel = 'linear',gamma = 'scale', shrinking = False,),  n_classifiers,with_conformal_prediction=False)\n",
    "        ecoc.train(X_train, y_train)\n",
    "        ecoc_predictions = ecoc.predict(X_test)\n",
    "        conformed_ecoc.train(X_train, y_train)\n",
    "        conformed_ecoc_predictions = conformed_ecoc.predict(X_test)\n",
    "        ecoc_accuracy = np.sum(ecoc_predictions==y_test)/len(y_test) *100\n",
    "        conformed_ecoc_accuracy = np.sum(conformed_ecoc_predictions==y_test)/len(y_test) *100\n",
    "        print(\"{:<20}            {:<20}          {:<20}     {:<20}    {:<10}\".format(data_path,ecoc_accuracy ,conformed_ecoc_accuracy, conformed_ecoc_accuracy-ecoc_accuracy,n_classes))\n",
    "    except ValueError as e:\n",
    "        print(\" -------ERROR--------\",data_path)\n",
    "        print(e)"
   ],
   "metadata": {
    "collapsed": false
   }
  },
  {
   "cell_type": "code",
   "execution_count": 4,
   "outputs": [
    {
     "name": "stdout",
     "output_type": "stream",
     "text": [
      "data/wine.csv\n",
      "data/segment.csv\n",
      "data/letter.csv\n",
      "data/shuttle.csv\n",
      "data/ecoli.csv\n",
      "data/page-blocks.csv\n",
      "data/balance-scale.csv\n",
      "data/thyroid.csv\n",
      "data/satimage.csv\n",
      "data/vowel.csv\n",
      "data/yeast.csv\n",
      "data/soybean.csv\n",
      "data/zoo.csv\n",
      "data/glass.csv\n",
      "data/vehicle.csv\n",
      "data/iris.csv\n"
     ]
    }
   ],
   "source": [
    "import os\n",
    "import glob\n",
    "\n",
    "# Directory path containing the CSV files\n",
    "directory = 'data/'\n",
    "\n",
    "# Pattern to match CSV files\n",
    "file_pattern = '*.csv'\n",
    "\n",
    "# Iterate over CSV files in the directory\n",
    "for file_path in glob.glob(os.path.join(directory, file_pattern)):\n",
    "    print(file_path)\n"
   ],
   "metadata": {
    "collapsed": false,
    "ExecuteTime": {
     "end_time": "2023-07-09T21:56:14.923758117Z",
     "start_time": "2023-07-09T21:56:14.874902709Z"
    }
   }
  },
  {
   "cell_type": "code",
   "execution_count": null,
   "outputs": [],
   "source": [],
   "metadata": {
    "collapsed": false
   }
  }
 ],
 "metadata": {
  "kernelspec": {
   "display_name": "Python 3",
   "language": "python",
   "name": "python3"
  },
  "language_info": {
   "codemirror_mode": {
    "name": "ipython",
    "version": 3
   },
   "file_extension": ".py",
   "mimetype": "text/x-python",
   "name": "python",
   "nbconvert_exporter": "python",
   "pygments_lexer": "ipython3",
   "version": "3.11.1"
  }
 },
 "nbformat": 4,
 "nbformat_minor": 0
}
