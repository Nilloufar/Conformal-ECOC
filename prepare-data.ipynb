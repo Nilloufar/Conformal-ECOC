{
 "cells": [
  {
   "cell_type": "code",
   "execution_count": 2,
   "metadata": {
    "ExecuteTime": {
     "end_time": "2023-07-09T21:59:33.755741382Z",
     "start_time": "2023-07-09T21:59:33.575490685Z"
    }
   },
   "outputs": [],
   "source": [
    "import pandas as pd"
   ]
  },
  {
   "cell_type": "code",
   "execution_count": 28,
   "outputs": [],
   "source": [
    "# Read the data\n",
    "df = pd.read_csv('data/glass.data', header=None, sep=',')\n",
    "df.drop(df.columns[0], axis=1, inplace=True) # drop the first column index\n",
    "mapping = {1: 0, 2: 1, 3: 2, 5: 3, 6: 4, 7: 5}\n",
    "df[df.columns[9]].replace(mapping, inplace=True)\n",
    "df.to_csv('data/glass.csv', index=False, header=False)"
   ],
   "metadata": {
    "collapsed": false
   }
  },
  {
   "cell_type": "code",
   "execution_count": 133,
   "metadata": {
    "ExecuteTime": {
     "end_time": "2023-07-09T21:18:23.839833686Z",
     "start_time": "2023-07-09T21:18:23.829480240Z"
    }
   },
   "outputs": [],
   "source": [
    "df=pd.read_csv('data/UCI/balance+scale/balance-scale.data', header=None, sep=',')\n",
    "df.head()\n",
    "mapping= {'L': 0, 'B': 1, 'R': 2}\n",
    "df[df.columns[0]].replace(mapping, inplace=True)\n",
    "df[\"class\"]=df[df.columns[0]]\n",
    "df.drop(df.columns[0], axis=1, inplace=True)\n",
    "df.to_csv('data/balance-scale.csv', index=False, header=False)"
   ]
  },
  {
   "cell_type": "code",
   "execution_count": 14,
   "metadata": {
    "ExecuteTime": {
     "end_time": "2023-07-09T22:05:00.316911344Z",
     "start_time": "2023-07-09T22:05:00.305290251Z"
    }
   },
   "outputs": [
    {
     "name": "stdout",
     "output_type": "stream",
     "text": [
      "[' cp' ' im' 'imS' 'imL' 'imU' ' om' 'omL' ' pp']\n",
      "[0 1 5 4 6 2 7 3]\n"
     ]
    }
   ],
   "source": [
    "df=pd.read_csv('data/UCI/ecoli/ecoli.data', header=None, sep=',')\n",
    "df.head()\n",
    "print(df[df.columns[-1]].unique())\n",
    "df.drop(df.columns[0], axis=1, inplace=True) # drop the first column index\n",
    "df[df.columns[-1]]=df[df.columns[-1]].astype('category').cat.codes\n",
    "print(df[df.columns[-1]].unique())\n",
    "df.to_csv('data/ecoli.csv', index=False, header=False)\n"
   ]
  },
  {
   "cell_type": "code",
   "execution_count": 13,
   "outputs": [
    {
     "data": {
      "text/plain": "        1     2     3    4     5     6     7    8\n0    0.49  0.29  0.48  0.5  0.56  0.24  0.35   cp\n1    0.07  0.40  0.48  0.5  0.54  0.35  0.44   cp\n2    0.56  0.40  0.48  0.5  0.49  0.37  0.46   cp\n3    0.59  0.49  0.48  0.5  0.52  0.45  0.36   cp\n4    0.23  0.32  0.48  0.5  0.55  0.25  0.35   cp\n..    ...   ...   ...  ...   ...   ...   ...  ...\n331  0.74  0.56  0.48  0.5  0.47  0.68  0.30   pp\n332  0.71  0.57  0.48  0.5  0.48  0.35  0.32   pp\n333  0.61  0.60  0.48  0.5  0.44  0.39  0.38   pp\n334  0.59  0.61  0.48  0.5  0.42  0.42  0.37   pp\n335  0.74  0.74  0.48  0.5  0.31  0.53  0.52   pp\n\n[336 rows x 8 columns]",
      "text/html": "<div>\n<style scoped>\n    .dataframe tbody tr th:only-of-type {\n        vertical-align: middle;\n    }\n\n    .dataframe tbody tr th {\n        vertical-align: top;\n    }\n\n    .dataframe thead th {\n        text-align: right;\n    }\n</style>\n<table border=\"1\" class=\"dataframe\">\n  <thead>\n    <tr style=\"text-align: right;\">\n      <th></th>\n      <th>1</th>\n      <th>2</th>\n      <th>3</th>\n      <th>4</th>\n      <th>5</th>\n      <th>6</th>\n      <th>7</th>\n      <th>8</th>\n    </tr>\n  </thead>\n  <tbody>\n    <tr>\n      <th>0</th>\n      <td>0.49</td>\n      <td>0.29</td>\n      <td>0.48</td>\n      <td>0.5</td>\n      <td>0.56</td>\n      <td>0.24</td>\n      <td>0.35</td>\n      <td>cp</td>\n    </tr>\n    <tr>\n      <th>1</th>\n      <td>0.07</td>\n      <td>0.40</td>\n      <td>0.48</td>\n      <td>0.5</td>\n      <td>0.54</td>\n      <td>0.35</td>\n      <td>0.44</td>\n      <td>cp</td>\n    </tr>\n    <tr>\n      <th>2</th>\n      <td>0.56</td>\n      <td>0.40</td>\n      <td>0.48</td>\n      <td>0.5</td>\n      <td>0.49</td>\n      <td>0.37</td>\n      <td>0.46</td>\n      <td>cp</td>\n    </tr>\n    <tr>\n      <th>3</th>\n      <td>0.59</td>\n      <td>0.49</td>\n      <td>0.48</td>\n      <td>0.5</td>\n      <td>0.52</td>\n      <td>0.45</td>\n      <td>0.36</td>\n      <td>cp</td>\n    </tr>\n    <tr>\n      <th>4</th>\n      <td>0.23</td>\n      <td>0.32</td>\n      <td>0.48</td>\n      <td>0.5</td>\n      <td>0.55</td>\n      <td>0.25</td>\n      <td>0.35</td>\n      <td>cp</td>\n    </tr>\n    <tr>\n      <th>...</th>\n      <td>...</td>\n      <td>...</td>\n      <td>...</td>\n      <td>...</td>\n      <td>...</td>\n      <td>...</td>\n      <td>...</td>\n      <td>...</td>\n    </tr>\n    <tr>\n      <th>331</th>\n      <td>0.74</td>\n      <td>0.56</td>\n      <td>0.48</td>\n      <td>0.5</td>\n      <td>0.47</td>\n      <td>0.68</td>\n      <td>0.30</td>\n      <td>pp</td>\n    </tr>\n    <tr>\n      <th>332</th>\n      <td>0.71</td>\n      <td>0.57</td>\n      <td>0.48</td>\n      <td>0.5</td>\n      <td>0.48</td>\n      <td>0.35</td>\n      <td>0.32</td>\n      <td>pp</td>\n    </tr>\n    <tr>\n      <th>333</th>\n      <td>0.61</td>\n      <td>0.60</td>\n      <td>0.48</td>\n      <td>0.5</td>\n      <td>0.44</td>\n      <td>0.39</td>\n      <td>0.38</td>\n      <td>pp</td>\n    </tr>\n    <tr>\n      <th>334</th>\n      <td>0.59</td>\n      <td>0.61</td>\n      <td>0.48</td>\n      <td>0.5</td>\n      <td>0.42</td>\n      <td>0.42</td>\n      <td>0.37</td>\n      <td>pp</td>\n    </tr>\n    <tr>\n      <th>335</th>\n      <td>0.74</td>\n      <td>0.74</td>\n      <td>0.48</td>\n      <td>0.5</td>\n      <td>0.31</td>\n      <td>0.53</td>\n      <td>0.52</td>\n      <td>pp</td>\n    </tr>\n  </tbody>\n</table>\n<p>336 rows × 8 columns</p>\n</div>"
     },
     "execution_count": 13,
     "metadata": {},
     "output_type": "execute_result"
    }
   ],
   "source": [
    "df"
   ],
   "metadata": {
    "collapsed": false,
    "ExecuteTime": {
     "end_time": "2023-07-09T22:04:18.692692941Z",
     "start_time": "2023-07-09T22:04:18.678715367Z"
    }
   }
  },
  {
   "cell_type": "code",
   "execution_count": 38,
   "metadata": {
    "ExecuteTime": {
     "end_time": "2023-07-09T19:59:28.678840734Z",
     "start_time": "2023-07-09T19:59:28.671790916Z"
    }
   },
   "outputs": [],
   "source": [
    "df=pd.read_csv('data/UCI/iris/iris.data', header=None, sep=',')\n",
    "df.head()\n",
    "mapping= {'Iris-setosa': 0, 'Iris-versicolor': 1, 'Iris-virginica': 2}\n",
    "df[df.columns[-1]].replace(mapping, inplace=True)\n",
    "df.to_csv('data/iris.csv', index=False, header=False)"
   ]
  },
  {
   "cell_type": "code",
   "execution_count": null,
   "outputs": [],
   "source": [
    "# !pip install datapackage"
   ],
   "metadata": {
    "collapsed": false
   }
  },
  {
   "cell_type": "code",
   "execution_count": 64,
   "outputs": [],
   "source": [
    "df=pd.read_csv('data/UCI/satimage_csv.csv', sep=',')\n",
    "df.head()\n",
    "df[\"class\"]=df[\"class\"]-1\n",
    "df.to_csv('data/satimage.csv', index=False, header=False)"
   ],
   "metadata": {
    "collapsed": false,
    "ExecuteTime": {
     "end_time": "2023-07-09T20:19:19.055913959Z",
     "start_time": "2023-07-09T20:19:18.922252231Z"
    }
   }
  },
  {
   "cell_type": "code",
   "execution_count": 68,
   "outputs": [],
   "source": [
    "df=pd.read_csv('data/UCI/segment_csv.csv', sep=',')\n",
    "df.head()\n",
    "mapping= {'brickface': 0, 'sky': 1, 'foliage': 2, 'cement': 3, 'window': 4, 'path': 5, 'grass': 6}\n",
    "df[\"class\"].replace(mapping, inplace=True)\n",
    "df.to_csv('data/segment.csv', index=False, header=False)\n"
   ],
   "metadata": {
    "collapsed": false,
    "ExecuteTime": {
     "end_time": "2023-07-09T20:25:09.842839973Z",
     "start_time": "2023-07-09T20:25:09.802331660Z"
    }
   }
  },
  {
   "cell_type": "code",
   "execution_count": 134,
   "outputs": [],
   "source": [
    "df=pd.read_csv('data/UCI/vehicle/vehicle.csv', header=None,sep=',')\n",
    "df.head()\n",
    "df.to_csv('data/vehicle.csv', index=False, header=False)"
   ],
   "metadata": {
    "collapsed": false,
    "ExecuteTime": {
     "end_time": "2023-07-09T21:19:12.178893585Z",
     "start_time": "2023-07-09T21:19:12.138955937Z"
    }
   }
  },
  {
   "cell_type": "code",
   "execution_count": 78,
   "outputs": [],
   "source": [
    "df=pd.read_csv('data/UCI/vowel.data', header=None,sep=',')\n",
    "df.drop([df.columns[0],df.columns[1],df.columns[2]], axis=1, inplace=True)\n",
    "mapping= {\"hid\":0,\"hId\":1,\"hEd\":2,\"hAd\":3,\"hYd\":4,\"had\":5,\"hOd\":6,\"hod\":7,\"hUd\":8,\"hud\":9,\"hed\":10,}\n",
    "df[df.columns[-1]].replace(mapping, inplace=True)\n",
    "df.to_csv('data/vowel.csv', index=False, header=False)\n"
   ],
   "metadata": {
    "collapsed": false,
    "ExecuteTime": {
     "end_time": "2023-07-09T20:39:01.839782491Z",
     "start_time": "2023-07-09T20:39:01.810986771Z"
    }
   }
  },
  {
   "cell_type": "code",
   "execution_count": 83,
   "outputs": [],
   "source": [
    "df=pd.read_csv('data/UCI/wine/wine.data', header=None,sep=',')\n",
    "df.head()\n",
    "df[\"class\"]=df[df.columns[0]]-1\n",
    "df.drop(df.columns[0], axis=1, inplace=True)\n",
    "df.to_csv('data/wine.csv', index=False, header=False)"
   ],
   "metadata": {
    "collapsed": false,
    "ExecuteTime": {
     "end_time": "2023-07-09T20:40:51.148593356Z",
     "start_time": "2023-07-09T20:40:51.142904069Z"
    }
   }
  },
  {
   "cell_type": "code",
   "execution_count": 92,
   "outputs": [],
   "source": [
    "df=pd.read_csv('data/UCI/yeast/yeast.data', header=None,sep=',')\n",
    "mapping= {'CYT': 0, 'NUC': 1, 'MIT': 2, 'ME3': 3, 'ME2': 4, 'ME1': 5, 'EXC': 6, 'VAC': 7, 'POX': 8, 'ERL': 9}\n",
    "df[df.columns[-1]].replace(mapping, inplace=True)\n",
    "df.drop(df.columns[0], axis=1, inplace=True)\n",
    "df.to_csv('data/yeast.csv', index=False, header=False)"
   ],
   "metadata": {
    "collapsed": false,
    "ExecuteTime": {
     "end_time": "2023-07-09T20:44:38.444027491Z",
     "start_time": "2023-07-09T20:44:38.415293599Z"
    }
   }
  },
  {
   "cell_type": "code",
   "execution_count": 97,
   "outputs": [],
   "source": [
    "df=pd.read_csv('data/UCI/zoo.data', header=None,sep=',')\n",
    "df.head()\n",
    "df[\"class\"]=df[df.columns[0]]\n",
    "mapping={\"aardvark\":0, \"antelope\":1,\"bass\":2,\"bear\":3,\"boar\":4,\"buffalo\":5,\"calf\":6,\"carp\":7,\"catfish\":8,\"cavy\":9}\n",
    "df[\"class\"].replace(mapping, inplace=True)\n",
    "df.drop(df.columns[0], axis=1, inplace=True)\n",
    "df.to_csv('data/zoo.csv', index=False, header=False)"
   ],
   "metadata": {
    "collapsed": false,
    "ExecuteTime": {
     "end_time": "2023-07-09T20:51:32.777646405Z",
     "start_time": "2023-07-09T20:51:32.726533259Z"
    }
   }
  },
  {
   "cell_type": "code",
   "execution_count": 102,
   "outputs": [],
   "source": [
    "df=pd.read_csv('data/UCI/letter+recognition/letter-recognition.data', header=None,sep=',')\n",
    "df.head()\n",
    "df[\"class\"]=df[df.columns[0]]\n",
    "df.drop(df.columns[0], axis=1, inplace=True)\n",
    "df[\"class\"].unique()\n",
    "mapping={\"A\":0, \"B\":1,\"C\":2,\"D\":3,\"E\":4,\"F\":5,\"G\":6,\"H\":7,\"I\":8,\"J\":9,\"K\":10,\"L\":11,\"M\":12,\"N\":13,\"O\":14,\"P\":15,\"Q\":16,\"R\":17,\"S\":18,\"T\":19,\"U\":20,\"V\":21,\"W\":22,\"X\":23,\"Y\":24,\"Z\":25}\n",
    "df[\"class\"].replace(mapping, inplace=True)\n",
    "df.to_csv('data/letter.csv', index=False, header=False)"
   ],
   "metadata": {
    "collapsed": false,
    "ExecuteTime": {
     "end_time": "2023-07-09T20:54:10.176946317Z",
     "start_time": "2023-07-09T20:54:10.116726918Z"
    }
   }
  },
  {
   "cell_type": "code",
   "execution_count": 108,
   "outputs": [],
   "source": [
    "df=pd.read_csv('data/UCI/page-blocks', header=None,sep=',')\n",
    "df[df.columns[-1]]=df[df.columns[-1]]-1\n",
    "df.to_csv('data/page-blocks.csv', index=False, header=False)"
   ],
   "metadata": {
    "collapsed": false,
    "ExecuteTime": {
     "end_time": "2023-07-09T20:58:04.418832400Z",
     "start_time": "2023-07-09T20:58:04.375748173Z"
    }
   }
  },
  {
   "cell_type": "code",
   "execution_count": 113,
   "outputs": [],
   "source": [
    "df=pd.read_csv('data/UCI/shuttle.csv', header=None,sep=',')\n",
    "df.head()\n",
    "df[df.columns[-1]]=df[df.columns[-1]]-1\n",
    "df.to_csv('data/shuttle.csv', index=False, header=False)"
   ],
   "metadata": {
    "collapsed": false,
    "ExecuteTime": {
     "end_time": "2023-07-09T21:03:45.630971175Z",
     "start_time": "2023-07-09T21:03:45.589399759Z"
    }
   }
  },
  {
   "cell_type": "code",
   "execution_count": 124,
   "outputs": [],
   "source": [
    "df=pd.read_csv('data/UCI/soybean+large/soybean-large.data', header=None,sep=',')\n",
    "mapping={}\n",
    "for i,cat in enumerate(df[df.columns[0]].unique()):\n",
    "    mapping[cat]=i\n",
    "df[df.columns[0]].replace(mapping, inplace=True)\n",
    "df[\"class\"]=df[df.columns[0]]\n",
    "df.drop(df.columns[0], axis=1, inplace=True)\n",
    "df.to_csv('data/soybean.csv', index=False, header=False)"
   ],
   "metadata": {
    "collapsed": false,
    "ExecuteTime": {
     "end_time": "2023-07-09T21:08:25.550758948Z",
     "start_time": "2023-07-09T21:08:25.510204825Z"
    }
   }
  },
  {
   "cell_type": "code",
   "execution_count": 128,
   "outputs": [],
   "source": [
    "df=pd.read_csv('data/UCI/thyroid.csv', header=None,sep=',')\n",
    "df.head()\n",
    "df[\"class\"]=df[df.columns[0]]-1\n",
    "df.drop(df.columns[0], axis=1, inplace=True)\n",
    "df.to_csv('data/thyroid.csv', index=False, header=False)"
   ],
   "metadata": {
    "collapsed": false,
    "ExecuteTime": {
     "end_time": "2023-07-09T21:13:01.371355703Z",
     "start_time": "2023-07-09T21:13:01.364252094Z"
    }
   }
  },
  {
   "cell_type": "code",
   "execution_count": null,
   "outputs": [],
   "source": [],
   "metadata": {
    "collapsed": false
   }
  }
 ],
 "metadata": {
  "kernelspec": {
   "display_name": "venv",
   "language": "python",
   "name": "python3"
  },
  "language_info": {
   "codemirror_mode": {
    "name": "ipython",
    "version": 3
   },
   "file_extension": ".py",
   "mimetype": "text/x-python",
   "name": "python",
   "nbconvert_exporter": "python",
   "pygments_lexer": "ipython3",
   "version": "3.11.1"
  },
  "orig_nbformat": 4
 },
 "nbformat": 4,
 "nbformat_minor": 2
}
